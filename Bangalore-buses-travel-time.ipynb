{
 "cells": [
  {
   "cell_type": "code",
   "execution_count": 1,
   "metadata": {},
   "outputs": [],
   "source": [
    "import numpy as np\n",
    "import matplotlib.pyplot as plt\n",
    "import seaborn as sns\n",
    "import pandas as pd\n",
    "import math\n",
    "%matplotlib inline"
   ]
  },
  {
   "cell_type": "code",
   "execution_count": 2,
   "metadata": {},
   "outputs": [],
   "source": [
    "gzip = pd.read_parquet('BMTC.parquet.gzip')\n",
    "input = pd.read_csv('Input.csv')\n",
    "ground_truth = pd.read_csv('GroundTruth.csv')"
   ]
  },
  {
   "cell_type": "code",
   "execution_count": 3,
   "metadata": {},
   "outputs": [],
   "source": [
    "gzip['Time'] = pd.to_datetime(gzip['Timestamp'])\n",
    "gzip['Time'] = gzip['Time'].dt.time"
   ]
  },
  {
   "cell_type": "code",
   "execution_count": 4,
   "metadata": {},
   "outputs": [],
   "source": [
    "a = (gzip.groupby(by = 'BusID', as_index=False)['Speed'].sum())\n",
    "Dropping_bus_id = (a[a['Speed'] == 0])"
   ]
  },
  {
   "cell_type": "code",
   "execution_count": 6,
   "metadata": {},
   "outputs": [],
   "source": [
    "#The buses which moved only once in a short time span in the interval of 12 hrs\n",
    "#[150218251, 150218847, 150219604, 150219952]"
   ]
  },
  {
   "cell_type": "code",
   "execution_count": 5,
   "metadata": {},
   "outputs": [],
   "source": [
    "gzip.drop(gzip[gzip['BusID'] == 150218251].index.values, inplace=True)\n",
    "gzip.drop(gzip[gzip['BusID'] == 150218847].index.values, inplace=True)\n",
    "gzip.drop(gzip[gzip['BusID'] == 150219604].index.values, inplace=True)\n",
    "gzip.drop(gzip[gzip['BusID'] == 150219952].index.values, inplace=True)"
   ]
  },
  {
   "cell_type": "code",
   "execution_count": 7,
   "metadata": {},
   "outputs": [],
   "source": [
    "gzip.drop(Dropping_bus_id.index.values, inplace=True)\n",
    "gzip.set_index(np.arange(0, len(gzip)), inplace=True)"
   ]
  },
  {
   "cell_type": "code",
   "execution_count": 8,
   "metadata": {},
   "outputs": [],
   "source": [
    "def distance(lat1, long1, lat2, long2):\n",
    "    R = 6371e3\n",
    "    phi1 = lat1 * (math.pi)/180\n",
    "    phi2 = lat2 * (math.pi)/180\n",
    "    phi = (lat2 - lat1) * (math.pi) / 180\n",
    "    lamb = (long2 - long1) * (math.pi) / 180\n",
    "    \n",
    "    a = math.sin(phi/2) * math.sin(phi/2) + math.cos(phi1) * math.cos(phi2) * math.sin(lamb/2) * math.sin(lamb/2)\n",
    "    c = 2* math.atan2(math.sqrt(a), math.sqrt(1-a))\n",
    "    d = R * c\n",
    "    return d/1000"
   ]
  },
  {
   "cell_type": "code",
   "execution_count": 10,
   "metadata": {},
   "outputs": [],
   "source": [
    "df1 = gzip.loc[gzip[\"Speed\"] != 0]\n"
   ]
  },
  {
   "cell_type": "code",
   "execution_count": 11,
   "metadata": {},
   "outputs": [],
   "source": [
    "lat_1_ = []\n",
    "lat_2_ = []\n",
    "for bus in np.unique(df1['BusID']):\n",
    "        lat_1 = np.random.choice(a = df1['Latitude'],size = (400, 1), replace = True)\n",
    "        for j in range(len(lat_1)):\n",
    "            lat_1_.append(lat_1[j])\n",
    "\n",
    "        lat_2 = np.random.choice(a = df1['Latitude'],size = (400, 1), replace = True)\n",
    "        for j in range(len(lat_2)):\n",
    "            lat_2_.append(lat_2[j])"
   ]
  },
  {
   "cell_type": "code",
   "execution_count": 12,
   "metadata": {},
   "outputs": [],
   "source": [
    "df1 = df1.set_index(np.arange(len(df1)))"
   ]
  },
  {
   "cell_type": "code",
   "execution_count": 13,
   "metadata": {},
   "outputs": [],
   "source": [
    "df_final_n1 = pd.DataFrame()\n",
    "df_final_n2 = pd.DataFrame()\n",
    "\n",
    "#df_final['bus_id'] = bus_id\n",
    "df_final_n1['lat1'] = lat_1_\n",
    "#df_final['long1'] = long1\n",
    "df_final_n2['lat2'] = lat_2_\n",
    "#df_final['long2'] = long2\n",
    "#df_final['time'] = time\n",
    "\n",
    "df_final_n1['latitude 1'] = df_final_n1['lat1'].apply(lambda x : float(x))\n",
    "df_final_n1.drop(labels=['lat1'], axis = 1, inplace=True)\n",
    "df_final_n2['latitude 2'] = df_final_n2['lat2'].apply(lambda x : float(x))\n",
    "df_final_n2.drop(labels=['lat2'], axis = 1, inplace=True)"
   ]
  },
  {
   "cell_type": "code",
   "execution_count": 14,
   "metadata": {},
   "outputs": [],
   "source": [
    "lat_1 = pd.merge(left = df1, right = df_final_n1, left_on='Latitude', right_on= 'latitude 1')\n",
    "lat_2 = pd.merge(left = df1, right = df_final_n2, left_on='Latitude', right_on= 'latitude 2')"
   ]
  },
  {
   "cell_type": "code",
   "execution_count": 15,
   "metadata": {},
   "outputs": [],
   "source": [
    "lat_1.drop_duplicates(subset=['Latitude', 'Longitude'], inplace=True)\n",
    "lat_2.drop_duplicates(subset=['Latitude', 'Longitude'], inplace=True)\n",
    "lat_1.set_index(np.arange(len(lat_1)), inplace=True)\n",
    "lat_2.set_index(np.arange(len(lat_2)), inplace= True)"
   ]
  },
  {
   "cell_type": "code",
   "execution_count": 16,
   "metadata": {},
   "outputs": [],
   "source": [
    "final = pd.DataFrame()\n",
    "final['Latitude 1'] = lat_1['Latitude']\n",
    "final['Longitude 1'] = lat_1['Longitude']\n",
    "final['Timestamp 1'] = lat_1['Timestamp']\n",
    "final['Latitude 2'] = lat_2['Latitude']\n",
    "final['Longitude 2'] = lat_2['Longitude']\n",
    "final['Timestamp 2'] = lat_2['Timestamp']"
   ]
  },
  {
   "cell_type": "code",
   "execution_count": 17,
   "metadata": {},
   "outputs": [
    {
     "data": {
      "text/html": [
       "<div>\n",
       "<style scoped>\n",
       "    .dataframe tbody tr th:only-of-type {\n",
       "        vertical-align: middle;\n",
       "    }\n",
       "\n",
       "    .dataframe tbody tr th {\n",
       "        vertical-align: top;\n",
       "    }\n",
       "\n",
       "    .dataframe thead th {\n",
       "        text-align: right;\n",
       "    }\n",
       "</style>\n",
       "<table border=\"1\" class=\"dataframe\">\n",
       "  <thead>\n",
       "    <tr style=\"text-align: right;\">\n",
       "      <th></th>\n",
       "      <th>Latitude 1</th>\n",
       "      <th>Longitude 1</th>\n",
       "      <th>Timestamp 1</th>\n",
       "      <th>Latitude 2</th>\n",
       "      <th>Longitude 2</th>\n",
       "      <th>Timestamp 2</th>\n",
       "    </tr>\n",
       "  </thead>\n",
       "  <tbody>\n",
       "    <tr>\n",
       "      <th>0</th>\n",
       "      <td>13.074060</td>\n",
       "      <td>77.445267</td>\n",
       "      <td>2019-08-01 07:28:45</td>\n",
       "      <td>13.074558</td>\n",
       "      <td>77.445549</td>\n",
       "      <td>2019-08-01 07:25:16</td>\n",
       "    </tr>\n",
       "    <tr>\n",
       "      <th>1</th>\n",
       "      <td>13.074060</td>\n",
       "      <td>77.633720</td>\n",
       "      <td>2019-08-01 18:54:43</td>\n",
       "      <td>13.074558</td>\n",
       "      <td>77.437286</td>\n",
       "      <td>2019-08-01 15:59:26</td>\n",
       "    </tr>\n",
       "    <tr>\n",
       "      <th>2</th>\n",
       "      <td>13.074060</td>\n",
       "      <td>77.592506</td>\n",
       "      <td>2019-08-01 15:56:52</td>\n",
       "      <td>13.074558</td>\n",
       "      <td>77.504028</td>\n",
       "      <td>2019-08-01 15:56:46</td>\n",
       "    </tr>\n",
       "    <tr>\n",
       "      <th>3</th>\n",
       "      <td>13.074060</td>\n",
       "      <td>77.503525</td>\n",
       "      <td>2019-08-01 07:08:44</td>\n",
       "      <td>13.074558</td>\n",
       "      <td>77.437119</td>\n",
       "      <td>2019-08-01 09:44:32</td>\n",
       "    </tr>\n",
       "    <tr>\n",
       "      <th>4</th>\n",
       "      <td>13.074060</td>\n",
       "      <td>77.784119</td>\n",
       "      <td>2019-08-01 10:33:29</td>\n",
       "      <td>13.074113</td>\n",
       "      <td>77.445282</td>\n",
       "      <td>2019-08-01 07:25:26</td>\n",
       "    </tr>\n",
       "    <tr>\n",
       "      <th>...</th>\n",
       "      <td>...</td>\n",
       "      <td>...</td>\n",
       "      <td>...</td>\n",
       "      <td>...</td>\n",
       "      <td>...</td>\n",
       "      <td>...</td>\n",
       "    </tr>\n",
       "    <tr>\n",
       "      <th>2406160</th>\n",
       "      <td>13.091881</td>\n",
       "      <td>77.558899</td>\n",
       "      <td>2019-08-01 07:41:57</td>\n",
       "      <td>NaN</td>\n",
       "      <td>NaN</td>\n",
       "      <td>NaT</td>\n",
       "    </tr>\n",
       "    <tr>\n",
       "      <th>2406161</th>\n",
       "      <td>13.093278</td>\n",
       "      <td>77.560432</td>\n",
       "      <td>2019-08-01 07:42:38</td>\n",
       "      <td>NaN</td>\n",
       "      <td>NaN</td>\n",
       "      <td>NaT</td>\n",
       "    </tr>\n",
       "    <tr>\n",
       "      <th>2406162</th>\n",
       "      <td>13.091508</td>\n",
       "      <td>77.558556</td>\n",
       "      <td>2019-08-01 08:55:51</td>\n",
       "      <td>NaN</td>\n",
       "      <td>NaN</td>\n",
       "      <td>NaT</td>\n",
       "    </tr>\n",
       "    <tr>\n",
       "      <th>2406163</th>\n",
       "      <td>13.084355</td>\n",
       "      <td>77.559860</td>\n",
       "      <td>2019-08-01 09:00:39</td>\n",
       "      <td>NaN</td>\n",
       "      <td>NaN</td>\n",
       "      <td>NaT</td>\n",
       "    </tr>\n",
       "    <tr>\n",
       "      <th>2406164</th>\n",
       "      <td>13.086314</td>\n",
       "      <td>77.555664</td>\n",
       "      <td>2019-08-01 17:32:21</td>\n",
       "      <td>NaN</td>\n",
       "      <td>NaN</td>\n",
       "      <td>NaT</td>\n",
       "    </tr>\n",
       "  </tbody>\n",
       "</table>\n",
       "<p>2406165 rows × 6 columns</p>\n",
       "</div>"
      ],
      "text/plain": [
       "         Latitude 1  Longitude 1         Timestamp 1  Latitude 2  Longitude 2  \\\n",
       "0         13.074060    77.445267 2019-08-01 07:28:45   13.074558    77.445549   \n",
       "1         13.074060    77.633720 2019-08-01 18:54:43   13.074558    77.437286   \n",
       "2         13.074060    77.592506 2019-08-01 15:56:52   13.074558    77.504028   \n",
       "3         13.074060    77.503525 2019-08-01 07:08:44   13.074558    77.437119   \n",
       "4         13.074060    77.784119 2019-08-01 10:33:29   13.074113    77.445282   \n",
       "...             ...          ...                 ...         ...          ...   \n",
       "2406160   13.091881    77.558899 2019-08-01 07:41:57         NaN          NaN   \n",
       "2406161   13.093278    77.560432 2019-08-01 07:42:38         NaN          NaN   \n",
       "2406162   13.091508    77.558556 2019-08-01 08:55:51         NaN          NaN   \n",
       "2406163   13.084355    77.559860 2019-08-01 09:00:39         NaN          NaN   \n",
       "2406164   13.086314    77.555664 2019-08-01 17:32:21         NaN          NaN   \n",
       "\n",
       "                Timestamp 2  \n",
       "0       2019-08-01 07:25:16  \n",
       "1       2019-08-01 15:59:26  \n",
       "2       2019-08-01 15:56:46  \n",
       "3       2019-08-01 09:44:32  \n",
       "4       2019-08-01 07:25:26  \n",
       "...                     ...  \n",
       "2406160                 NaT  \n",
       "2406161                 NaT  \n",
       "2406162                 NaT  \n",
       "2406163                 NaT  \n",
       "2406164                 NaT  \n",
       "\n",
       "[2406165 rows x 6 columns]"
      ]
     },
     "execution_count": 17,
     "metadata": {},
     "output_type": "execute_result"
    }
   ],
   "source": [
    "final"
   ]
  },
  {
   "cell_type": "code",
   "execution_count": 18,
   "metadata": {},
   "outputs": [],
   "source": [
    "final.dropna(inplace=True)"
   ]
  },
  {
   "cell_type": "code",
   "execution_count": 19,
   "metadata": {},
   "outputs": [],
   "source": [
    "final['Duration'] = abs(final['Timestamp 2'] - final['Timestamp 1'])\n",
    "final['Duration in seconds'] = final['Duration'].dt.seconds"
   ]
  },
  {
   "cell_type": "code",
   "execution_count": 20,
   "metadata": {},
   "outputs": [],
   "source": [
    "dist = []\n",
    "for i in range(0, len(final)):\n",
    "    distance_ = distance(final['Latitude 1'][i], final['Longitude 1'][i], final['Latitude 2'][i], final['Longitude 2'][i])\n",
    "    dist.append(distance_)\n",
    "final['Distance'] = dist    "
   ]
  },
  {
   "cell_type": "code",
   "execution_count": 21,
   "metadata": {},
   "outputs": [
    {
     "data": {
      "text/html": [
       "<div>\n",
       "<style scoped>\n",
       "    .dataframe tbody tr th:only-of-type {\n",
       "        vertical-align: middle;\n",
       "    }\n",
       "\n",
       "    .dataframe tbody tr th {\n",
       "        vertical-align: top;\n",
       "    }\n",
       "\n",
       "    .dataframe thead th {\n",
       "        text-align: right;\n",
       "    }\n",
       "</style>\n",
       "<table border=\"1\" class=\"dataframe\">\n",
       "  <thead>\n",
       "    <tr style=\"text-align: right;\">\n",
       "      <th></th>\n",
       "      <th>Latitude 1</th>\n",
       "      <th>Longitude 1</th>\n",
       "      <th>Timestamp 1</th>\n",
       "      <th>Latitude 2</th>\n",
       "      <th>Longitude 2</th>\n",
       "      <th>Timestamp 2</th>\n",
       "      <th>Duration</th>\n",
       "      <th>Duration in seconds</th>\n",
       "      <th>Distance</th>\n",
       "    </tr>\n",
       "  </thead>\n",
       "  <tbody>\n",
       "    <tr>\n",
       "      <th>1</th>\n",
       "      <td>13.074060</td>\n",
       "      <td>77.633720</td>\n",
       "      <td>2019-08-01 18:54:43</td>\n",
       "      <td>13.074558</td>\n",
       "      <td>77.437286</td>\n",
       "      <td>2019-08-01 15:59:26</td>\n",
       "      <td>0 days 02:55:17</td>\n",
       "      <td>10517</td>\n",
       "      <td>21.276324</td>\n",
       "    </tr>\n",
       "    <tr>\n",
       "      <th>2</th>\n",
       "      <td>13.074060</td>\n",
       "      <td>77.592506</td>\n",
       "      <td>2019-08-01 15:56:52</td>\n",
       "      <td>13.074558</td>\n",
       "      <td>77.504028</td>\n",
       "      <td>2019-08-01 15:56:46</td>\n",
       "      <td>0 days 00:00:06</td>\n",
       "      <td>6</td>\n",
       "      <td>9.583431</td>\n",
       "    </tr>\n",
       "    <tr>\n",
       "      <th>3</th>\n",
       "      <td>13.074060</td>\n",
       "      <td>77.503525</td>\n",
       "      <td>2019-08-01 07:08:44</td>\n",
       "      <td>13.074558</td>\n",
       "      <td>77.437119</td>\n",
       "      <td>2019-08-01 09:44:32</td>\n",
       "      <td>0 days 02:35:48</td>\n",
       "      <td>9348</td>\n",
       "      <td>7.192811</td>\n",
       "    </tr>\n",
       "    <tr>\n",
       "      <th>4</th>\n",
       "      <td>13.074060</td>\n",
       "      <td>77.784119</td>\n",
       "      <td>2019-08-01 10:33:29</td>\n",
       "      <td>13.074113</td>\n",
       "      <td>77.445282</td>\n",
       "      <td>2019-08-01 07:25:26</td>\n",
       "      <td>0 days 03:08:03</td>\n",
       "      <td>11283</td>\n",
       "      <td>36.700305</td>\n",
       "    </tr>\n",
       "    <tr>\n",
       "      <th>5</th>\n",
       "      <td>13.074060</td>\n",
       "      <td>77.423233</td>\n",
       "      <td>2019-08-01 11:00:36</td>\n",
       "      <td>13.074113</td>\n",
       "      <td>77.718834</td>\n",
       "      <td>2019-08-01 16:39:51</td>\n",
       "      <td>0 days 05:39:15</td>\n",
       "      <td>20355</td>\n",
       "      <td>32.017304</td>\n",
       "    </tr>\n",
       "    <tr>\n",
       "      <th>...</th>\n",
       "      <td>...</td>\n",
       "      <td>...</td>\n",
       "      <td>...</td>\n",
       "      <td>...</td>\n",
       "      <td>...</td>\n",
       "      <td>...</td>\n",
       "      <td>...</td>\n",
       "      <td>...</td>\n",
       "      <td>...</td>\n",
       "    </tr>\n",
       "    <tr>\n",
       "      <th>2405889</th>\n",
       "      <td>13.134246</td>\n",
       "      <td>77.667412</td>\n",
       "      <td>2019-08-01 14:51:53</td>\n",
       "      <td>13.069019</td>\n",
       "      <td>77.557526</td>\n",
       "      <td>2019-08-01 07:56:02</td>\n",
       "      <td>0 days 06:55:51</td>\n",
       "      <td>24951</td>\n",
       "      <td>13.936696</td>\n",
       "    </tr>\n",
       "    <tr>\n",
       "      <th>2405890</th>\n",
       "      <td>13.133813</td>\n",
       "      <td>77.667068</td>\n",
       "      <td>2019-08-01 14:52:03</td>\n",
       "      <td>13.085169</td>\n",
       "      <td>77.557724</td>\n",
       "      <td>2019-08-01 07:39:08</td>\n",
       "      <td>0 days 07:12:55</td>\n",
       "      <td>25975</td>\n",
       "      <td>13.018489</td>\n",
       "    </tr>\n",
       "    <tr>\n",
       "      <th>2405891</th>\n",
       "      <td>13.133813</td>\n",
       "      <td>77.667000</td>\n",
       "      <td>2019-08-01 16:09:00</td>\n",
       "      <td>13.095582</td>\n",
       "      <td>77.594666</td>\n",
       "      <td>2019-08-01 08:38:54</td>\n",
       "      <td>0 days 07:30:06</td>\n",
       "      <td>27006</td>\n",
       "      <td>8.912564</td>\n",
       "    </tr>\n",
       "    <tr>\n",
       "      <th>2405892</th>\n",
       "      <td>13.133040</td>\n",
       "      <td>77.652374</td>\n",
       "      <td>2019-08-01 14:56:22</td>\n",
       "      <td>13.092261</td>\n",
       "      <td>77.559471</td>\n",
       "      <td>2019-08-01 08:55:20</td>\n",
       "      <td>0 days 06:01:02</td>\n",
       "      <td>21662</td>\n",
       "      <td>11.035598</td>\n",
       "    </tr>\n",
       "    <tr>\n",
       "      <th>2405893</th>\n",
       "      <td>13.122702</td>\n",
       "      <td>77.634529</td>\n",
       "      <td>2019-08-01 15:02:50</td>\n",
       "      <td>13.086001</td>\n",
       "      <td>77.555656</td>\n",
       "      <td>2019-08-01 17:32:01</td>\n",
       "      <td>0 days 02:29:11</td>\n",
       "      <td>8951</td>\n",
       "      <td>9.466685</td>\n",
       "    </tr>\n",
       "  </tbody>\n",
       "</table>\n",
       "<p>2344760 rows × 9 columns</p>\n",
       "</div>"
      ],
      "text/plain": [
       "         Latitude 1  Longitude 1         Timestamp 1  Latitude 2  Longitude 2  \\\n",
       "1         13.074060    77.633720 2019-08-01 18:54:43   13.074558    77.437286   \n",
       "2         13.074060    77.592506 2019-08-01 15:56:52   13.074558    77.504028   \n",
       "3         13.074060    77.503525 2019-08-01 07:08:44   13.074558    77.437119   \n",
       "4         13.074060    77.784119 2019-08-01 10:33:29   13.074113    77.445282   \n",
       "5         13.074060    77.423233 2019-08-01 11:00:36   13.074113    77.718834   \n",
       "...             ...          ...                 ...         ...          ...   \n",
       "2405889   13.134246    77.667412 2019-08-01 14:51:53   13.069019    77.557526   \n",
       "2405890   13.133813    77.667068 2019-08-01 14:52:03   13.085169    77.557724   \n",
       "2405891   13.133813    77.667000 2019-08-01 16:09:00   13.095582    77.594666   \n",
       "2405892   13.133040    77.652374 2019-08-01 14:56:22   13.092261    77.559471   \n",
       "2405893   13.122702    77.634529 2019-08-01 15:02:50   13.086001    77.555656   \n",
       "\n",
       "                Timestamp 2        Duration  Duration in seconds   Distance  \n",
       "1       2019-08-01 15:59:26 0 days 02:55:17                10517  21.276324  \n",
       "2       2019-08-01 15:56:46 0 days 00:00:06                    6   9.583431  \n",
       "3       2019-08-01 09:44:32 0 days 02:35:48                 9348   7.192811  \n",
       "4       2019-08-01 07:25:26 0 days 03:08:03                11283  36.700305  \n",
       "5       2019-08-01 16:39:51 0 days 05:39:15                20355  32.017304  \n",
       "...                     ...             ...                  ...        ...  \n",
       "2405889 2019-08-01 07:56:02 0 days 06:55:51                24951  13.936696  \n",
       "2405890 2019-08-01 07:39:08 0 days 07:12:55                25975  13.018489  \n",
       "2405891 2019-08-01 08:38:54 0 days 07:30:06                27006   8.912564  \n",
       "2405892 2019-08-01 08:55:20 0 days 06:01:02                21662  11.035598  \n",
       "2405893 2019-08-01 17:32:01 0 days 02:29:11                 8951   9.466685  \n",
       "\n",
       "[2344760 rows x 9 columns]"
      ]
     },
     "execution_count": 21,
     "metadata": {},
     "output_type": "execute_result"
    }
   ],
   "source": [
    "final.drop(np.where(final['Distance'] < 0.3)[0], axis = 0, inplace= True)\n",
    "final"
   ]
  },
  {
   "cell_type": "code",
   "execution_count": 22,
   "metadata": {},
   "outputs": [],
   "source": [
    "final['expected time'] = (final['Distance']/20)*60\n",
    "final['Duration in mins'] = final['Duration in seconds']/60"
   ]
  },
  {
   "cell_type": "code",
   "execution_count": 24,
   "metadata": {},
   "outputs": [],
   "source": [
    "final.drop(['Timestamp 1', 'Timestamp 2', 'Duration', 'Duration in seconds'], axis = 1, inplace=True)"
   ]
  },
  {
   "cell_type": "code",
   "execution_count": 25,
   "metadata": {},
   "outputs": [],
   "source": [
    "final['time when speed = 7 kmph'] = (final['Distance']/7)*60\n",
    "final['time when speed = 14 kmph'] = (final['Distance']/14)*60"
   ]
  },
  {
   "cell_type": "code",
   "execution_count": 26,
   "metadata": {},
   "outputs": [],
   "source": [
    "final.drop(['expected time'], axis = 1, inplace= True)"
   ]
  },
  {
   "cell_type": "code",
   "execution_count": 31,
   "metadata": {},
   "outputs": [],
   "source": [
    "final.set_index(np.arange(len(final)), inplace=True)"
   ]
  },
  {
   "cell_type": "code",
   "execution_count": 32,
   "metadata": {},
   "outputs": [],
   "source": [
    "indx =[]\n",
    "for i in range(len(final)):\n",
    "    if(final['Duration in mins'][i] > final['time when speed = 7 kmph'][i]):\n",
    "        indx.append(i)\n",
    "    elif (final['Duration in mins'][i] < final['time when speed = 14 kmph'][i]):\n",
    "        indx.append(i)"
   ]
  },
  {
   "cell_type": "code",
   "execution_count": 33,
   "metadata": {},
   "outputs": [],
   "source": [
    "test_1 = final.drop(indx, axis = 0)"
   ]
  },
  {
   "cell_type": "code",
   "execution_count": 35,
   "metadata": {},
   "outputs": [],
   "source": [
    "from xgboost import XGBRegressor as xgb"
   ]
  },
  {
   "cell_type": "code",
   "execution_count": 36,
   "metadata": {},
   "outputs": [
    {
     "data": {
      "text/plain": [
       "Index(['Latitude 1', 'Longitude 1', 'Latitude 2', 'Longitude 2', 'Distance',\n",
       "       'Duration in mins', 'time when speed = 7 kmph',\n",
       "       'time when speed = 14 kmph'],\n",
       "      dtype='object')"
      ]
     },
     "execution_count": 36,
     "metadata": {},
     "output_type": "execute_result"
    }
   ],
   "source": [
    "test_1 = final.drop(indx, axis = 0)\n",
    "xgbr = xgb(learning_rate = 0.03, max_depth = 5)\n",
    "final.columns"
   ]
  },
  {
   "cell_type": "code",
   "execution_count": 37,
   "metadata": {},
   "outputs": [],
   "source": [
    "\n",
    "\n",
    "X = test_1.drop(['Distance',\n",
    "       'Duration in mins', 'time when speed = 7 kmph',\n",
    "       'time when speed = 14 kmph'], axis=1)\n",
    "y = test_1['Duration in mins']\n",
    "\n"
   ]
  },
  {
   "cell_type": "code",
   "execution_count": 38,
   "metadata": {},
   "outputs": [
    {
     "data": {
      "text/plain": [
       "XGBRegressor(base_score=0.5, booster='gbtree', callbacks=None,\n",
       "             colsample_bylevel=1, colsample_bynode=1, colsample_bytree=1,\n",
       "             early_stopping_rounds=None, enable_categorical=False,\n",
       "             eval_metric=None, gamma=0, gpu_id=-1, grow_policy='depthwise',\n",
       "             importance_type=None, interaction_constraints='',\n",
       "             learning_rate=0.03, max_bin=256, max_cat_to_onehot=4,\n",
       "             max_delta_step=0, max_depth=5, max_leaves=0, min_child_weight=1,\n",
       "             missing=nan, monotone_constraints='()', n_estimators=100, n_jobs=0,\n",
       "             num_parallel_tree=1, predictor='auto', random_state=0, reg_alpha=0,\n",
       "             reg_lambda=1, ...)"
      ]
     },
     "execution_count": 38,
     "metadata": {},
     "output_type": "execute_result"
    }
   ],
   "source": [
    "xgbr.fit(X, y)"
   ]
  },
  {
   "cell_type": "code",
   "execution_count": 41,
   "metadata": {},
   "outputs": [],
   "source": [
    "X_test = input.drop(['Unnamed: 0'], axis = 1)"
   ]
  },
  {
   "cell_type": "code",
   "execution_count": 42,
   "metadata": {
    "scrolled": true
   },
   "outputs": [],
   "source": [
    "predictions = xgbr.predict(X_test)"
   ]
  },
  {
   "cell_type": "code",
   "execution_count": 43,
   "metadata": {},
   "outputs": [
    {
     "data": {
      "text/plain": [
       "array([45.778023, 55.19887 , 46.183704, ..., 35.676937, 53.693893,\n",
       "       66.07606 ], dtype=float32)"
      ]
     },
     "execution_count": 43,
     "metadata": {},
     "output_type": "execute_result"
    }
   ],
   "source": [
    "predictions"
   ]
  },
  {
   "cell_type": "code",
   "execution_count": 45,
   "metadata": {},
   "outputs": [
    {
     "data": {
      "text/html": [
       "<div>\n",
       "<style scoped>\n",
       "    .dataframe tbody tr th:only-of-type {\n",
       "        vertical-align: middle;\n",
       "    }\n",
       "\n",
       "    .dataframe tbody tr th {\n",
       "        vertical-align: top;\n",
       "    }\n",
       "\n",
       "    .dataframe thead th {\n",
       "        text-align: right;\n",
       "    }\n",
       "</style>\n",
       "<table border=\"1\" class=\"dataframe\">\n",
       "  <thead>\n",
       "    <tr style=\"text-align: right;\">\n",
       "      <th></th>\n",
       "      <th>TT</th>\n",
       "      <th>Unnamed 0</th>\n",
       "    </tr>\n",
       "  </thead>\n",
       "  <tbody>\n",
       "    <tr>\n",
       "      <th>0</th>\n",
       "      <td>2.833333</td>\n",
       "      <td>45.778023</td>\n",
       "    </tr>\n",
       "    <tr>\n",
       "      <th>1</th>\n",
       "      <td>1.500000</td>\n",
       "      <td>55.198872</td>\n",
       "    </tr>\n",
       "    <tr>\n",
       "      <th>2</th>\n",
       "      <td>21.250000</td>\n",
       "      <td>46.183704</td>\n",
       "    </tr>\n",
       "    <tr>\n",
       "      <th>3</th>\n",
       "      <td>2.000000</td>\n",
       "      <td>52.575573</td>\n",
       "    </tr>\n",
       "    <tr>\n",
       "      <th>4</th>\n",
       "      <td>35.733333</td>\n",
       "      <td>48.242481</td>\n",
       "    </tr>\n",
       "    <tr>\n",
       "      <th>...</th>\n",
       "      <td>...</td>\n",
       "      <td>...</td>\n",
       "    </tr>\n",
       "    <tr>\n",
       "      <th>1200</th>\n",
       "      <td>27.233333</td>\n",
       "      <td>49.211334</td>\n",
       "    </tr>\n",
       "    <tr>\n",
       "      <th>1201</th>\n",
       "      <td>26.750000</td>\n",
       "      <td>54.583889</td>\n",
       "    </tr>\n",
       "    <tr>\n",
       "      <th>1202</th>\n",
       "      <td>53.600000</td>\n",
       "      <td>35.676937</td>\n",
       "    </tr>\n",
       "    <tr>\n",
       "      <th>1203</th>\n",
       "      <td>59.616667</td>\n",
       "      <td>53.693893</td>\n",
       "    </tr>\n",
       "    <tr>\n",
       "      <th>1204</th>\n",
       "      <td>59.816667</td>\n",
       "      <td>66.076057</td>\n",
       "    </tr>\n",
       "  </tbody>\n",
       "</table>\n",
       "<p>1205 rows × 2 columns</p>\n",
       "</div>"
      ],
      "text/plain": [
       "             TT  Unnamed 0\n",
       "0      2.833333  45.778023\n",
       "1      1.500000  55.198872\n",
       "2     21.250000  46.183704\n",
       "3      2.000000  52.575573\n",
       "4     35.733333  48.242481\n",
       "...         ...        ...\n",
       "1200  27.233333  49.211334\n",
       "1201  26.750000  54.583889\n",
       "1202  53.600000  35.676937\n",
       "1203  59.616667  53.693893\n",
       "1204  59.816667  66.076057\n",
       "\n",
       "[1205 rows x 2 columns]"
      ]
     },
     "execution_count": 45,
     "metadata": {},
     "output_type": "execute_result"
    }
   ],
   "source": [
    "from sklearn.metrics import mean_absolute_error as mae\n",
    "pd.DataFrame(data = (ground_truth['TT'], predictions)).T"
   ]
  },
  {
   "cell_type": "code",
   "execution_count": 46,
   "metadata": {},
   "outputs": [
    {
     "data": {
      "text/plain": [
       "23.973419176157083"
      ]
     },
     "execution_count": 46,
     "metadata": {},
     "output_type": "execute_result"
    }
   ],
   "source": [
    "mae(ground_truth['TT'], predictions)"
   ]
  },
  {
   "cell_type": "code",
   "execution_count": null,
   "metadata": {},
   "outputs": [],
   "source": []
  }
 ],
 "metadata": {
  "kernelspec": {
   "display_name": "Python 3",
   "language": "python",
   "name": "python3"
  },
  "language_info": {
   "codemirror_mode": {
    "name": "ipython",
    "version": 3
   },
   "file_extension": ".py",
   "mimetype": "text/x-python",
   "name": "python",
   "nbconvert_exporter": "python",
   "pygments_lexer": "ipython3",
   "version": "3.8.5"
  }
 },
 "nbformat": 4,
 "nbformat_minor": 4
}
